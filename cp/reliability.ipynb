{
 "cells": [
  {
   "cell_type": "code",
   "execution_count": 157,
   "metadata": {},
   "outputs": [],
   "source": [
    "import numpy as np\n",
    "import numpy.random as rnd\n",
    "import matplotlib.pyplot as plt\n",
    "import scipy.interpolate as scin"
   ]
  },
  {
   "cell_type": "markdown",
   "metadata": {},
   "source": [
    "### Variables"
   ]
  },
  {
   "cell_type": "markdown",
   "metadata": {},
   "source": [
    "#### Время наработки на отказ MTBF (t)"
   ]
  },
  {
   "cell_type": "code",
   "execution_count": 13,
   "metadata": {},
   "outputs": [],
   "source": [
    "# Router MTBF\n",
    "r = 365000\n",
    "\n",
    "# Distribution layer switch MTBF\n",
    "sd = 300000\n",
    "\n",
    "# Access layer switch MTBD\n",
    "sw = 520000\n",
    "\n",
    "# Fiber optic MTBF\n",
    "fo = 100000\n",
    "\n",
    "# Twisted pair MTBF\n",
    "tp = 219000"
   ]
  },
  {
   "cell_type": "markdown",
   "metadata": {},
   "source": [
    "#### Вероятность безотказной работы элемента за период 0.5, 1, 3 года (T)"
   ]
  },
  {
   "cell_type": "code",
   "execution_count": 14,
   "metadata": {},
   "outputs": [
    {
     "name": "stdout",
     "output_type": "stream",
     "text": [
      "Количество часов в 0,5 года: 4380\n",
      "Количество часов в 1 годе: 8760\n",
      "Количество часов в 3 годах: 26280\n"
     ]
    }
   ],
   "source": [
    "T05 = 24/2*365\n",
    "T1 = 24*365\n",
    "T3 = 24*365*3\n",
    "\n",
    "print(f'Количество часов в 0,5 года: {T05:n}')\n",
    "print(f'Количество часов в 1 годе: {T1}')\n",
    "print(f'Количество часов в 3 годах: {T3}')"
   ]
  },
  {
   "cell_type": "code",
   "execution_count": 15,
   "metadata": {},
   "outputs": [
    {
     "name": "stdout",
     "output_type": "stream",
     "text": [
      "Вероятность безотказной работы за 0,5 года:\n",
      "Роутер: 0.988072\n",
      "Коммутатор уровня распределения: 0.985506\n",
      "Коммутатор уровня доступа: 0.991612\n",
      "Оптоволоконный кабель: 0.957145\n",
      "Витая пара: 0.980199\n"
     ]
    }
   ],
   "source": [
    "# 0.5 лет\n",
    "r05 = np.e**(-T05/r)\n",
    "sd05 = np.e**(-T05/sd)\n",
    "sw05 = np.e**(-T05/sw)\n",
    "fo05 = np.e**(-T05/fo)\n",
    "tp05 = np.e**(-T05/tp)\n",
    "\n",
    "# print\n",
    "print(f'Вероятность безотказной работы за 0,5 года:')\n",
    "print(f'Роутер: {r05:.6f}')\n",
    "print(f'Коммутатор уровня распределения: {sd05:.6f}')\n",
    "print(f'Коммутатор уровня доступа: {sw05:.6f}')\n",
    "print(f'Оптоволоконный кабель: {fo05:.6f}')\n",
    "print(f'Витая пара: {tp05:.6f}')"
   ]
  },
  {
   "cell_type": "code",
   "execution_count": 16,
   "metadata": {},
   "outputs": [
    {
     "name": "stdout",
     "output_type": "stream",
     "text": [
      "Вероятность безотказной работы за 1 год:\n",
      "Роутер: 0.976286\n",
      "Коммутатор уровня распределения: 0.971222\n",
      "Коммутатор уровня доступа: 0.983295\n",
      "Оптоволоконный кабель: 0.916127\n",
      "Витая пара: 0.960789\n"
     ]
    }
   ],
   "source": [
    "# 1 год\n",
    "r1 = np.e**(-T1/r)\n",
    "sd1 = np.e**(-T1/sd)\n",
    "sw1 = np.e**(-T1/sw)\n",
    "fo1 = np.e**(-T1/fo)\n",
    "tp1 = np.e**(-T1/tp)\n",
    "\n",
    "# print\n",
    "print(f'Вероятность безотказной работы за 1 год:')\n",
    "print(f'Роутер: {r1:.6f}')\n",
    "print(f'Коммутатор уровня распределения: {sd1:.6f}')\n",
    "print(f'Коммутатор уровня доступа: {sw1:.6f}')\n",
    "print(f'Оптоволоконный кабель: {fo1:.6f}')\n",
    "print(f'Витая пара: {tp1:.6f}')"
   ]
  },
  {
   "cell_type": "code",
   "execution_count": 17,
   "metadata": {},
   "outputs": [
    {
     "name": "stdout",
     "output_type": "stream",
     "text": [
      "Вероятность безотказной работы за 3 года:\n",
      "Роутер: 0.930531\n",
      "Коммутатор уровня распределения: 0.916127\n",
      "Коммутатор уровня доступа: 0.950717\n",
      "Оптоволоконный кабель: 0.768896\n",
      "Витая пара: 0.886920\n"
     ]
    }
   ],
   "source": [
    "# 3 года\n",
    "r3 = np.e**(-T3/r)\n",
    "sd3 = np.e**(-T3/sd)\n",
    "sw3 = np.e**(-T3/sw)\n",
    "fo3 = np.e**(-T3/fo)\n",
    "tp3 = np.e**(-T3/tp)\n",
    "\n",
    "# print\n",
    "print(f'Вероятность безотказной работы за 3 года:')\n",
    "print(f'Роутер: {r3:.6f}')\n",
    "print(f'Коммутатор уровня распределения: {sd3:.6f}')\n",
    "print(f'Коммутатор уровня доступа: {sw3:.6f}')\n",
    "print(f'Оптоволоконный кабель: {fo3:.6f}')\n",
    "print(f'Витая пара: {tp3:.6f}')"
   ]
  },
  {
   "cell_type": "code",
   "execution_count": 18,
   "metadata": {},
   "outputs": [],
   "source": [
    "# Получение значения работоспособности (true/false) для каждого элемента сети на основе заданных вероятностей\n",
    "def psample(rp, sdp, swp, fop, tpp):\n",
    "    result = []\n",
    "    result.append(None)\n",
    "    rn = rnd.random(size=68)\n",
    "\n",
    "    for r in range(68):\n",
    "        # Router\n",
    "        if r == 0:\n",
    "            if rn[r] <= rp:\n",
    "                result.append(True)\n",
    "            else:\n",
    "                result.append(False)\n",
    "        # Distribution layer switches\n",
    "        elif r == 1 or r == 2:\n",
    "            if rn[r] <= sdp:\n",
    "                result.append(True)\n",
    "            else:\n",
    "                result.append(False)\n",
    "        # Access layer switches\n",
    "        elif r >= 3 and r <= 7:\n",
    "            if rn[r] <= swp:\n",
    "                result.append(True)\n",
    "            else:\n",
    "                result.append(False)\n",
    "        # Fiber optic cable\n",
    "        elif r >= 8 and r <= 11:\n",
    "            if rn[r] <= fop:\n",
    "                result.append(True)\n",
    "            else:\n",
    "                result.append(False)\n",
    "        # Twisted pair cable\n",
    "        elif r >= 12:\n",
    "            if rn[r] <= tpp:\n",
    "                result.append(True)\n",
    "            else:\n",
    "                result.append(False)\n",
    "    return result"
   ]
  },
  {
   "cell_type": "code",
   "execution_count": 19,
   "metadata": {},
   "outputs": [],
   "source": [
    "# # Расчет работоспособности всей сети на основе работоспособности отдельных элементов сети\n",
    "# def f(x):\n",
    "#     x12 = x[1] and x[9] and x[2]\n",
    "#     x13 = x[1] and x[10] and x[3]\n",
    "#     x14 = x[1] and ( (x[9] and x[2] and x[13]) or (x[9] and x[2] and x[12] and x[3] and x[14]) or (x[10] and x[3] and x[14]) or (x[10] and x[3] and x[12] and x[2] and x[13]) ) and x[4]\n",
    "#     x15 = x[1] and ( (x[9] and x[2] and x[15]) or (x[9] and x[2] and x[12] and x[3] and x[16]) or (x[10] and x[3] and x[16]) or (x[10] and x[3] and x[12] and x[2] and x[15]) ) and x[5]\n",
    "#     x16 = x[1] and ( (x[9] and x[2] and x[17]) or (x[9] and x[2] and x[12] and x[3] and x[18]) or (x[10] and x[3] and x[18]) or (x[10] and x[3] and x[12] and x[2] and x[17]) ) and x[6]\n",
    "#     x17 = x[1] and ( (x[9] and x[2] and x[19]) or (x[9] and x[2] and x[12] and x[3] and x[20]) or (x[10] and x[3] and x[20]) or (x[10] and x[3] and x[12] and x[2] and x[19]) ) and x[7]\n",
    "#     x18 = x[1] and ( (x[9] and x[2] and x[21]) or (x[9] and x[2] and x[12] and x[3] and x[22]) or (x[10] and x[3] and x[22]) or (x[10] and x[3] and x[12] and x[2] and x[21]) ) and x[8]\n",
    "\n",
    "#     x23 = x[2] and x[12] and x[3]\n",
    "#     x24 = x[2] and ( x[13] or (x[12] and x[3] and x[14]) ) and x[4]\n",
    "#     x25 = x[2] and ( x[15] or (x[12] and x[3] and x[16]) ) and x[5]\n",
    "#     x26 = x[2] and ( x[17] or (x[12] and x[3] and x[18]) ) and x[6]\n",
    "#     x27 = x[2] and ( x[19] or (x[12] and x[3] and x[20]) ) and x[7]\n",
    "#     x28 = x[2] and ( x[21] or (x[12] and x[3] and x[22]) ) and x[8]\n",
    "\n",
    "#     x34 = x[3] and ( x[14] or (x[12] and x[2] and x[13]) ) and x[4]\n",
    "#     x35 = x[3] and ( x[16] or (x[12] and x[2] and x[15]) ) and x[5]\n",
    "#     x36 = x[3] and ( x[18] or (x[12] and x[2] and x[17]) ) and x[6]\n",
    "#     x37 = x[3] and ( x[20] or (x[12] and x[2] and x[19]) ) and x[7]\n",
    "#     x38 = x[3] and ( x[22] or (x[12] and x[2] and x[21]) ) and x[8]\n",
    "\n",
    "#     x45 = x[4] and ( (x[13] and x[2] and x[15]) or (x[13] and x[2] and x[12] and x[3] and x[16]) or (x[14] and x[3] and x[16]) or (x[14] and x[3] and x[12] and x[2] and x[15]) ) and x[5]\n",
    "#     x46 = x[4] and ( (x[13] and x[2] and x[17]) or (x[13] and x[2] and x[12] and x[3] and x[18]) or (x[14] and x[3] and x[18]) or (x[14] and x[3] and x[12] and x[2] and x[17]) ) and x[6]\n",
    "#     x47 = x[4] and ( (x[13] and x[2] and x[19]) or (x[13] and x[2] and x[12] and x[3] and x[20]) or (x[14] and x[3] and x[20]) or (x[14] and x[3] and x[12] and x[2] and x[19]) ) and x[7]\n",
    "#     x48 = x[4] and ( (x[13] and x[2] and x[21]) or (x[13] and x[2] and x[12] and x[3] and x[22]) or (x[14] and x[3] and x[22]) or (x[14] and x[3] and x[12] and x[2] and x[21]) ) and x[8]\n",
    "\n",
    "#     x56 = x[5] and ( (x[15] and x[2] and x[17]) or (x[15] and x[2] and x[12] and x[3] and x[18]) or (x[16] and x[3] and x[18]) or (x[16] and x[3] and x[12] and x[2] and x[17]) ) and x[6]\n",
    "#     x57 = x[5] and ( (x[15] and x[2] and x[19]) or (x[15] and x[2] and x[12] and x[3] and x[20]) or (x[16] and x[3] and x[20]) or (x[16] and x[3] and x[12] and x[2] and x[19]) ) and x[7]\n",
    "#     x58 = x[5] and ( (x[15] and x[2] and x[21]) or (x[15] and x[2] and x[12] and x[3] and x[22]) or (x[16] and x[3] and x[22]) or (x[16] and x[3] and x[12] and x[2] and x[21]) ) and x[8]\n",
    "    \n",
    "#     x67 = x[6] and ( (x[17] and x[2] and x[19]) or (x[17] and x[2] and x[12] and x[3] and x[20]) or (x[18] and x[3] and x[20]) or (x[18] and x[3] and x[12] and x[2] and x[19]) ) and x[7]\n",
    "#     x68 = x[6] and ( (x[17] and x[2] and x[21]) or (x[17] and x[2] and x[12] and x[3] and x[22]) or (x[18] and x[3] and x[22]) or (x[18] and x[3] and x[12] and x[2] and x[21]) ) and x[8]\n",
    "\n",
    "#     x78 = x[6] and ( (x[19] and x[2] and x[21]) or (x[19] and x[2] and x[12] and x[3] and x[22]) or (x[20] and x[3] and x[22]) or (x[20] and x[3] and x[12] and x[2] and x[21]) ) and x[8]\n",
    "\n",
    "#     srv1 = x[11]\n",
    "\n",
    "#     x100 = x[23] and x[24] and x[25] and x[26] and x[27] and x[28] and x[29] and x[30] and x[31]\n",
    "#     x200 = x[32] and x[33] and x[34] and x[35] and x[36] and x[37] and x[38] and x[39]\n",
    "#     x400 = x[40] and x[41] and x[42] and x[43] and x[44] and x[45] and x[46] and x[47] and x[48] and x[49] and x[50]\n",
    "#     x600 = x[51] and x[52] and x[53] and x[54] and x[55] and x[56] and x[57] and x[58] and x[59] and x[60] and x[61] and x[62]\n",
    "#     x700 = x[63] and x[64] and x[65] and x[66] and x[67] and x[68]\n",
    "\n",
    "#     result = x12 and x13 and x14 and x15 and x16 and x17 and x18 and \\\n",
    "#              x23 and x24 and x25 and x26 and x27 and x28 and \\\n",
    "#              x34 and x35 and x36 and x37 and x38 and \\\n",
    "#              x45 and x46 and x47 and x48 and \\\n",
    "#              x56 and x57 and x58 and \\\n",
    "#              x67 and x68 and \\\n",
    "#              x78 and \\\n",
    "#              srv1 and \\\n",
    "#              x100 and x200 and x400 and x600 and x700\n",
    "    \n",
    "#     return result"
   ]
  },
  {
   "cell_type": "code",
   "execution_count": 20,
   "metadata": {},
   "outputs": [],
   "source": [
    "# Расчет работоспособности всей сети на основе работоспособности отдельных элементов сети\n",
    "def f(x):\n",
    "    x12 = x[9] or (x[10] and x[3] and x[12])\n",
    "    x13 = x[10] or (x[9] and x[2] and x[12])\n",
    "    x14 = (x[9] and x[2] and x[13]) or (x[9] and x[2] and x[12] and x[3] and x[14]) or (x[10] and x[3] and x[14]) or (x[10] and x[3] and x[12] and x[2] and x[13])\n",
    "    x15 = (x[9] and x[2] and x[15]) or (x[9] and x[2] and x[12] and x[3] and x[16]) or (x[10] and x[3] and x[16]) or (x[10] and x[3] and x[12] and x[2] and x[15])\n",
    "    x16 = (x[9] and x[2] and x[17]) or (x[9] and x[2] and x[12] and x[3] and x[18]) or (x[10] and x[3] and x[18]) or (x[10] and x[3] and x[12] and x[2] and x[17])\n",
    "    x17 = (x[9] and x[2] and x[19]) or (x[9] and x[2] and x[12] and x[3] and x[20]) or (x[10] and x[3] and x[20]) or (x[10] and x[3] and x[12] and x[2] and x[19])\n",
    "    x18 = (x[9] and x[2] and x[21]) or (x[9] and x[2] and x[12] and x[3] and x[22]) or (x[10] and x[3] and x[22]) or (x[10] and x[3] and x[12] and x[2] and x[21])\n",
    "\n",
    "    x23 = x[12] or (x[13] and x[4] and x[14]) or (x[15] and x[5] and x[16]) or (x[17] and x[6] and x[18]) or (x[19] and x[7] and x[20]) or (x[21] and x[8] and x[22])\n",
    "    x24 = x[13] or (x[12] and x[3] and x[14])\n",
    "    x25 = x[15] or (x[12] and x[3] and x[16])\n",
    "    x26 = x[17] or (x[12] and x[3] and x[18])\n",
    "    x27 = x[19] or (x[12] and x[3] and x[20])\n",
    "    x28 = x[21] or (x[12] and x[3] and x[22])\n",
    "\n",
    "    x34 = x[14] or (x[12] and x[2] and x[13])\n",
    "    x35 = x[16] or (x[12] and x[2] and x[15])\n",
    "    x36 = x[18] or (x[12] and x[2] and x[17])\n",
    "    x37 = x[20] or (x[12] and x[2] and x[19])\n",
    "    x38 = x[22] or (x[12] and x[2] and x[21])\n",
    "\n",
    "    x45 = (x[13] and x[2] and x[15]) or (x[13] and x[2] and x[12] and x[3] and x[16]) or (x[14] and x[3] and x[16]) or (x[14] and x[3] and x[12] and x[2] and x[15])\n",
    "    x46 = (x[13] and x[2] and x[17]) or (x[13] and x[2] and x[12] and x[3] and x[18]) or (x[14] and x[3] and x[18]) or (x[14] and x[3] and x[12] and x[2] and x[17])\n",
    "    x47 = (x[13] and x[2] and x[19]) or (x[13] and x[2] and x[12] and x[3] and x[20]) or (x[14] and x[3] and x[20]) or (x[14] and x[3] and x[12] and x[2] and x[19])\n",
    "    x48 = (x[13] and x[2] and x[21]) or (x[13] and x[2] and x[12] and x[3] and x[22]) or (x[14] and x[3] and x[22]) or (x[14] and x[3] and x[12] and x[2] and x[21])\n",
    "\n",
    "    x56 = (x[15] and x[2] and x[17]) or (x[15] and x[2] and x[12] and x[3] and x[18]) or (x[16] and x[3] and x[18]) or (x[16] and x[3] and x[12] and x[2] and x[17])\n",
    "    x57 = (x[15] and x[2] and x[19]) or (x[15] and x[2] and x[12] and x[3] and x[20]) or (x[16] and x[3] and x[20]) or (x[16] and x[3] and x[12] and x[2] and x[19])\n",
    "    x58 = (x[15] and x[2] and x[21]) or (x[15] and x[2] and x[12] and x[3] and x[22]) or (x[16] and x[3] and x[22]) or (x[16] and x[3] and x[12] and x[2] and x[21])\n",
    "    \n",
    "    x67 = (x[17] and x[2] and x[19]) or (x[17] and x[2] and x[12] and x[3] and x[20]) or (x[18] and x[3] and x[20]) or (x[18] and x[3] and x[12] and x[2] and x[19])\n",
    "    x68 = (x[17] and x[2] and x[21]) or (x[17] and x[2] and x[12] and x[3] and x[22]) or (x[18] and x[3] and x[22]) or (x[18] and x[3] and x[12] and x[2] and x[21])\n",
    "\n",
    "    x78 = (x[19] and x[2] and x[21]) or (x[19] and x[2] and x[12] and x[3] and x[22]) or (x[20] and x[3] and x[22]) or (x[20] and x[3] and x[12] and x[2] and x[21])\n",
    "\n",
    "    srv1 = x[11] and x[1]\n",
    "\n",
    "    x100 = x[4] and x[23] and x[24] and x[25] and x[26] and x[27] and x[28] and x[29] and x[30] and x[31]\n",
    "    x200 = x[5] and x[32] and x[33] and x[34] and x[35] and x[36] and x[37] and x[38] and x[39]\n",
    "    x400 = x[6] and x[40] and x[41] and x[42] and x[43] and x[44] and x[45] and x[46] and x[47] and x[48] and x[49] and x[50]\n",
    "    x600 = x[7] and x[51] and x[52] and x[53] and x[54] and x[55] and x[56] and x[57] and x[58] and x[59] and x[60] and x[61] and x[62]\n",
    "    x700 = x[8] and x[63] and x[64] and x[65] and x[66] and x[67] and x[68]\n",
    "\n",
    "    result = x12 and x13 and x14 and x15 and x16 and x17 and x18 and \\\n",
    "             x23 and x24 and x25 and x26 and x27 and x28 and \\\n",
    "             x34 and x35 and x36 and x37 and x38 and \\\n",
    "             x45 and x46 and x47 and x48 and \\\n",
    "             x56 and x57 and x58 and \\\n",
    "             x67 and x68 and \\\n",
    "             x78 and \\\n",
    "             srv1 and \\\n",
    "             x100 and x200 and x400 and x600 and x700\n",
    "    \n",
    "    return result"
   ]
  },
  {
   "cell_type": "code",
   "execution_count": 21,
   "metadata": {},
   "outputs": [],
   "source": [
    "def reliability(n, rp, sdp, swp, fop, tpp):\n",
    "    tcount = 0\n",
    "    for _ in range(n):\n",
    "        x = psample(rp=rp, sdp=sdp, swp=swp, fop=fop, tpp=tpp)\n",
    "        if (f(x)):\n",
    "            tcount += 1\n",
    "    p = tcount/n\n",
    "    e = np.cbrt(p*(1-p)/n)\n",
    "    return p,e"
   ]
  },
  {
   "cell_type": "code",
   "execution_count": 22,
   "metadata": {},
   "outputs": [
    {
     "name": "stdout",
     "output_type": "stream",
     "text": [
      "Статистическая оценка вероятности безотказной работы для 0,5 года: 0.355154\n",
      "Погрешность: 0.006118208037270206\n",
      "\n",
      "Статистическая оценка вероятности безотказной работы для 1 года: 0.123089\n",
      "Погрешность: 0.00476129313781019\n",
      "\n",
      "Статистическая оценка вероятности безотказной работы для 3 лет: 0.001437\n",
      "Погрешность: 0.0011279177020147133\n"
     ]
    }
   ],
   "source": [
    "p05, e05 = reliability(n=1000000, rp=r05, sdp=sd05, swp=sw05, fop=fo05, tpp=tp05)\n",
    "p1, e1 = reliability(n=1000000, rp=r1, sdp=sd1, swp=sw1, fop=fo1, tpp=tp1)\n",
    "p3, e3 = reliability(n=1000000, rp=r3, sdp=sd3, swp=sw3, fop=fo3, tpp=tp3)\n",
    "\n",
    "print(f'Статистическая оценка вероятности безотказной работы для 0,5 года: {p05}')\n",
    "print(f'Погрешность: {e05}')\n",
    "print(f'\\nСтатистическая оценка вероятности безотказной работы для 1 года: {p1}')\n",
    "print(f'Погрешность: {e1}')\n",
    "print(f'\\nСтатистическая оценка вероятности безотказной работы для 3 лет: {p3}')\n",
    "print(f'Погрешность: {e3}')"
   ]
  },
  {
   "cell_type": "code",
   "execution_count": 39,
   "metadata": {},
   "outputs": [],
   "source": [
    "def createprlist(rp, sdp, swp, fop, tpp):\n",
    "    pr = []\n",
    "    pr.append(None)\n",
    "\n",
    "    pr.append(rp)\n",
    "\n",
    "    for _ in range(2):\n",
    "        pr.append(sdp)\n",
    "\n",
    "    for _ in range(5):\n",
    "        pr.append(swp)\n",
    "\n",
    "    for _ in range(4):\n",
    "        pr.append(fop)\n",
    "\n",
    "    for _ in range(13, 69):\n",
    "        pr.append(tpp)\n",
    "\n",
    "    return pr"
   ]
  },
  {
   "cell_type": "code",
   "execution_count": 80,
   "metadata": {},
   "outputs": [],
   "source": [
    "def minpath(x):\n",
    "    def cut(xxs):\n",
    "        res = 1\n",
    "        for xx in xxs:\n",
    "            res = res * (1-xx)\n",
    "        return 1 - res\n",
    "\n",
    "    p = []\n",
    "\n",
    "    # 1-2\n",
    "    p.append(cut([x[9],x[10]]) * cut([x[9],x[3]]) * cut([x[9],x[12]]))\n",
    "\n",
    "    # 1-4\n",
    "    p.append(cut([x[2],x[3]]) * cut([x[9],x[10]]) * cut([x[13],x[14]]) * cut([x[3],x[13]]) * cut([x[2],x[14]]) * cut([x[3],x[9]]) * cut([x[2],x[10]]) * cut([x[10],x[12],x[13]]) * cut([x[9],x[12],x[14]]))\n",
    "    \n",
    "    # 1-Srv1\n",
    "    p.append(cut([x[11]]))\n",
    "\n",
    "    # 1-101\n",
    "    p.append(cut([x[2],x[3]]) * cut([x[9],x[10]]) * cut([x[13],x[14]]) * cut([x[3],x[13]]) * cut([x[2],x[14]]) * cut([x[3],x[9]]) * cut([x[2],x[10]]) * cut([x[10],x[12],x[13]]) * cut([x[9],x[12],x[14]]) * cut([x[23]]))\n",
    "\n",
    "    # 2-3\n",
    "    p.append(cut([x[12],x[4],x[5],x[6],x[7],x[8]]) * cut([x[12],x[13],x[15],x[17],x[19],x[21]]) * cut([x[12],x[14],x[16],x[18],x[20],x[22]]))\n",
    "\n",
    "    # 2-4\n",
    "    p.append(cut([x[13],x[12]]) * cut([x[13],x[3]]) * cut([x[13],x[14]]))\n",
    "\n",
    "    # 2-Srv1\n",
    "    p.append(cut([x[9],x[10]]) * cut([x[9],x[3]]) * cut([x[9],x[12]]) * cut([x[11]]) * cut([x[1]]))\n",
    "\n",
    "    # 2-101\n",
    "    p.append(cut([x[13],x[12]]) * cut([x[13],x[3]]) * cut([x[13],x[14]]) * cut([x[23]]))\n",
    "\n",
    "    # 4-5\n",
    "    p.append(cut([x[14],x[15],x[12]]) * cut([x[13],x[16],x[12]]) * cut([x[2],x[3]]))\n",
    "\n",
    "    # 4-Srv1\n",
    "    p.append(cut([x[2],x[3]]) * cut([x[9],x[10]]) * cut([x[13],x[14]]) * cut([x[3],x[13]]) * cut([x[2],x[14]]) * cut([x[3],x[9]]) * cut([x[2],x[10]]) * cut([x[10],x[12],x[13]]) * cut([x[9],x[12],x[14]]) * cut([x[11]]))\n",
    "\n",
    "    # 4-101\n",
    "    p.append(cut([x[23]]))\n",
    "\n",
    "    # 4-201\n",
    "    p.append(cut([x[14],x[15],x[12]]) * cut([x[13],x[16],x[12]]) * cut([x[2],x[3]]) * cut([x[32]]) * cut([x[5]]))\n",
    "\n",
    "    # 101-Srv1\n",
    "    p.append(cut([x[2],x[3]]) * cut([x[9],x[10]]) * cut([x[13],x[14]]) * cut([x[3],x[13]]) * cut([x[2],x[14]]) * cut([x[3],x[9]]) * cut([x[2],x[10]]) * cut([x[10],x[12],x[13]]) * cut([x[9],x[12],x[14]]) * cut([x[23]]) * cut([x[4]]) * cut([x[11]]) * cut([x[1]]))\n",
    "\n",
    "    # 101-102\n",
    "    p.append(cut([x[23]]) * cut([x[4]]) * cut([x[24]]))\n",
    "\n",
    "    # 101-201\n",
    "    p.append(cut([x[14],x[15],x[12]]) * cut([x[13],x[16],x[12]]) * cut([x[2],x[3]]) * cut([x[23]]) * cut([x[32]]) * cut([x[4]]) * cut([x[5]]))\n",
    "\n",
    "    return np.min(p)"
   ]
  },
  {
   "cell_type": "code",
   "execution_count": 85,
   "metadata": {},
   "outputs": [
    {
     "name": "stdout",
     "output_type": "stream",
     "text": [
      "Pnk при расчете на полгода: 0.9152545878004967\n",
      "Pnk при расчете на 1 год: 0.8306757189541272\n",
      "Pnk при расчете на 3 года: 0.521796367066498\n"
     ]
    }
   ],
   "source": [
    "x = createprlist(rp=r05, sdp=sd05, swp=sw05, fop=fo05, tpp=tp05)\n",
    "minp05 = minpath(x)\n",
    "\n",
    "x = createprlist(rp=r1, sdp=sd1, swp=sw1, fop=fo1, tpp=tp1)\n",
    "minp1 = minpath(x)\n",
    "\n",
    "x = createprlist(rp=r3, sdp=sd3, swp=sw3, fop=fo3, tpp=tp3)\n",
    "minp3 = minpath(x)\n",
    "\n",
    "print(f'Pnk при расчете на полгода: {minp05}')\n",
    "print(f'Pnk при расчете на 1 год: {minp1}')\n",
    "print(f'Pnk при расчете на 3 года: {minp3}')\n"
   ]
  },
  {
   "cell_type": "code",
   "execution_count": 122,
   "metadata": {},
   "outputs": [],
   "source": [
    "def maxpath(x):\n",
    "    def pth(xxs):\n",
    "        res = 1\n",
    "        for xx in xxs:\n",
    "            res = res * xx\n",
    "        return 1 - res\n",
    "\n",
    "    p = []\n",
    "\n",
    "    # 1-2\n",
    "    p.append(1-(pth([x[9]])*pth([x[10],x[3],x[12]])))\n",
    "\n",
    "    # 1-4\n",
    "    p.append(1-(pth([x[9],x[2],x[13]]) * pth([x[9],x[2],x[12],x[3],x[14]])) * pth([x[10],x[3],x[14]]) * pth([x[10],x[3],x[12],x[2],x[13]]))\n",
    "\n",
    "    # 1-Srv1\n",
    "    p.append(1-(pth([x[11]])))\n",
    "\n",
    "    # 1-101\n",
    "    p.append(1-(pth([x[9],x[2],x[13],x[4],x[23]]) * pth([x[9],x[2],x[12],x[3],x[14],x[4],x[23]])) * pth([x[10],x[3],x[14],x[4],x[23]]) * pth([x[10],x[3],x[12],x[2],x[13],x[4],x[23]]))\n",
    "\n",
    "    # 2-3\n",
    "    p.append(1-(pth([x[12]]) * pth([x[13],x[4],x[14]])) * pth([x[15],x[5],x[15]]) * pth([x[17],x[6],x[18]]) * pth([x[19],x[7],x[20]]) * pth([x[21],x[8],x[22]]))\n",
    "\n",
    "    # 2-4\n",
    "    p.append(1-(pth([x[13]]) * pth([x[12],x[3],x[14]])))\n",
    "\n",
    "    # 2-Srv1\n",
    "    p.append(1-(pth([x[9],x[1],x[11]]) * pth([x[12],x[3],x[10],x[1],x[11]])))\n",
    "\n",
    "    # 2-101\n",
    "    p.append(1-(pth([x[13],x[4],x[23]]) * pth([x[12],x[13],x[14],x[4],x[23]])))\n",
    "\n",
    "    # 4-5\n",
    "    p.append(1-(pth([x[13],x[2],x[15]]) * pth([x[13],x[2],x[12],x[3],x[16]]) * pth([x[14],x[3],x[16]]) * pth([x[14],x[3],x[12],x[2],x[15]])))\n",
    "\n",
    "    # 4-Srv1\n",
    "    p.append(1-(pth([x[13],x[2],x[9],x[1],x[11]]) * pth([x[13],x[2],x[12],x[3],x[10],x[1],x[11]]) * pth([x[14],x[3],x[10],x[1],x[11]]) * pth([x[14],x[3],x[12],x[2],x[9],x[1],x[11]])))\n",
    "\n",
    "    # 4-101\n",
    "    p.append(1-(pth([x[23]])))\n",
    "   \n",
    "    # 4-201\n",
    "    p.append(1-(pth([x[13],x[2],x[15],x[5],x[32]]) * pth([x[13],x[2],x[12],x[3],x[16],x[5],x[32]]) * pth([x[14],x[3],x[16],x[5],x[32]]) * pth([x[14],x[3],x[12],x[2],x[15],x[5],x[32]])))\n",
    "\n",
    "    # 101-Srv1\n",
    "    p.append(1-(pth([x[23],x[4],x[13],x[2],x[9],x[1],x[1]]) * pth([x[23],x[4],x[13],x[2],x[12],x[3],x[10],x[1],x[11]]) * pth([x[23],x[4],x[14],x[3],x[10],x[1],x[11]]) * pth([x[23],x[4],x[14],x[3],x[12],x[2],x[9],x[1],x[11]])))\n",
    "\n",
    "    # 101-102\n",
    "    p.append(1-(pth([x[23],x[4],x[24]])))\n",
    "\n",
    "    # 101-201\n",
    "    p.append(1-(pth([x[23],x[4],x[13],x[2],x[15],x[5],x[32]]) * pth([x[23],x[4],x[13],x[2],x[12],x[3],x[16],x[5],x[32]]) * pth([x[23],x[4],x[14],x[3],x[16],x[5],x[32]]) * pth([x[23],x[4],x[14],x[3],x[12],x[2],x[15],x[5],x[32]])))\n",
    "\n",
    "    # return p\n",
    "    return np.max(p)"
   ]
  },
  {
   "cell_type": "code",
   "execution_count": 123,
   "metadata": {},
   "outputs": [
    {
     "name": "stdout",
     "output_type": "stream",
     "text": [
      "Pek при расчете на полгода: 0.9999999898866009\n",
      "Pek при расчете на 1 год: 0.9999994380056921\n",
      "Pek при расчете на 3 года: 0.9997644895108285\n"
     ]
    }
   ],
   "source": [
    "x = createprlist(rp=r05, sdp=sd05, swp=sw05, fop=fo05, tpp=tp05)\n",
    "maxp05 = maxpath(x)\n",
    "\n",
    "x = createprlist(rp=r1, sdp=sd1, swp=sw1, fop=fo1, tpp=tp1)\n",
    "maxp1 = maxpath(x)\n",
    "\n",
    "x = createprlist(rp=r3, sdp=sd3, swp=sw3, fop=fo3, tpp=tp3)\n",
    "maxp3 = maxpath(x)\n",
    "\n",
    "print(f'Pek при расчете на полгода: {maxp05}')\n",
    "print(f'Pek при расчете на 1 год: {maxp1}')\n",
    "print(f'Pek при расчете на 3 года: {maxp3}')"
   ]
  },
  {
   "cell_type": "code",
   "execution_count": 213,
   "metadata": {},
   "outputs": [],
   "source": [
    "# For smoothing first graphic\n",
    "def probabilities(r, sd, sw, fo, tp, t):\n",
    "    result = []\n",
    "    result.append(np.e**(-t/r))\n",
    "    result.append(np.e**(-t/sd))\n",
    "    result.append(np.e**(-t/sw))\n",
    "    result.append(np.e**(-t/fo))\n",
    "    result.append(np.e**(-t/tp))\n",
    "    return result\n",
    "\n",
    "\n",
    "tt = np.linspace(start=4380, stop=26280, num=5, endpoint=True)\n",
    "pp = []\n",
    "\n",
    "for t in tt:\n",
    "    prs = probabilities(r=r, sd=sd, sw=sw, fo=fo, tp=tp, t=t)\n",
    "    pa,pb = reliability(n=100000, rp=prs[0], sdp=prs[1], swp=prs[2], fop=prs[3], tpp=prs[4])\n",
    "    pp.append(pa)\n"
   ]
  },
  {
   "cell_type": "code",
   "execution_count": 220,
   "metadata": {},
   "outputs": [
    {
     "data": {
      "image/png": "[encoded data removed]",
      "text/plain": [
       "<Figure size 1200x800 with 1 Axes>"
      ]
     },
     "metadata": {},
     "output_type": "display_data"
    }
   ],
   "source": [
    "T = [T05, T1, T3]\n",
    "p = [p05, p1, p3]\n",
    "minp = [minp05, minp1, minp3]\n",
    "maxp = [maxp05, maxp1, maxp3]\n",
    "\n",
    "fg, ax = plt.subplots(figsize=(12, 8))\n",
    "\n",
    "ax.spines['top'].set_visible(False)\n",
    "ax.spines['right'].set_visible(False)\n",
    "\n",
    "ax.plot(1, 0, \">k\", transform=ax.transAxes, clip_on=False)\n",
    "ax.plot(0, 1, \"^k\", transform=ax.transAxes, clip_on=False)\n",
    "\n",
    "# ax.axvline(x=T[0], color='gray', linestyle='dashed', linewidth=1.25)\n",
    "# ax.axvline(x=T[1], color='gray', linestyle='dashed', linewidth=1.25)\n",
    "# ax.axvline(x=T[2], color='gray', linestyle='dashed', linewidth=1.25)\n",
    "\n",
    "plt.xticks(ticks=T, labels=['0.5 года', '1 год', '3 года'])\n",
    "plt.yticks(ticks=np.arange(0,1.1,0.1))\n",
    "\n",
    "plt.ylim(bottom=0, top=1.05)\n",
    "\n",
    "mis = scin.make_interp_spline(tt, pp, k=3)\n",
    "xsmooth = np.linspace(min(tt), max(tt), 1000)\n",
    "ysmooth = mis(xsmooth)\n",
    "ax.plot(xsmooth, ysmooth, color='black')\n",
    "\n",
    "# ysmoothed = gaussian_filter1d(p, sigma=0.8)\n",
    "# plt.plot(T, ysmoothed)\n",
    "# plt.show()\n",
    "\n",
    "# plt.plot(T,p)\n",
    "# plt.plot(tt,pp)\n",
    "plt.plot(T,minp, color='black')\n",
    "plt.plot(T,maxp, color='black')\n",
    "\n",
    "plt.grid()\n",
    "plt.show()\n",
    "\n",
    "fg.savefig('c:\\prob.png')"
   ]
  }
 ],
 "metadata": {
  "kernelspec": {
   "display_name": "Python 3",
   "language": "python",
   "name": "python3"
  },
  "language_info": {
   "codemirror_mode": {
    "name": "ipython",
    "version": 3
   },
   "file_extension": ".py",
   "mimetype": "text/x-python",
   "name": "python",
   "nbconvert_exporter": "python",
   "pygments_lexer": "ipython3",
   "version": "3.10.8"
  }
 },
 "nbformat": 4,
 "nbformat_minor": 2
}
